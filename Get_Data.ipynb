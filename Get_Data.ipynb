{
  "nbformat": 4,
  "nbformat_minor": 0,
  "metadata": {
    "colab": {
      "name": "Get Data.ipynb",
      "provenance": [],
      "collapsed_sections": [],
      "toc_visible": true,
      "authorship_tag": "ABX9TyOGZYDu8slTGzwJPYpkBNWI",
      "include_colab_link": true
    },
    "kernelspec": {
      "name": "python3",
      "display_name": "Python 3"
    }
  },
  "cells": [
    {
      "cell_type": "markdown",
      "metadata": {
        "id": "view-in-github",
        "colab_type": "text"
      },
      "source": [
        "<a href=\"https://colab.research.google.com/github/xivh/stylegan2-colab-notebooks/blob/master/Get_Data.ipynb\" target=\"_parent\"><img src=\"https://colab.research.google.com/assets/colab-badge.svg\" alt=\"Open In Colab\"/></a>"
      ]
    },
    {
      "cell_type": "markdown",
      "metadata": {
        "id": "y-kwsywt2p2Z",
        "colab_type": "text"
      },
      "source": [
        "# Mount google drive"
      ]
    },
    {
      "cell_type": "code",
      "metadata": {
        "id": "nEuBsiht21sY",
        "colab_type": "code",
        "colab": {}
      },
      "source": [
        "from google.colab import drive\n",
        "drive.mount('/content/drive')"
      ],
      "execution_count": null,
      "outputs": []
    },
    {
      "cell_type": "markdown",
      "metadata": {
        "id": "ttLtFTM91HJz",
        "colab_type": "text"
      },
      "source": [
        "# Get gallery-dl"
      ]
    },
    {
      "cell_type": "code",
      "metadata": {
        "id": "OjN_SGGX1D-o",
        "colab_type": "code",
        "colab": {}
      },
      "source": [
        "!pip install gallery-dl"
      ],
      "execution_count": null,
      "outputs": []
    },
    {
      "cell_type": "markdown",
      "metadata": {
        "id": "jXl-5q3r1GU8",
        "colab_type": "text"
      },
      "source": [
        "Here is how to use it for Instagram"
      ]
    },
    {
      "cell_type": "code",
      "metadata": {
        "id": "M8Ppt2jJ1xNM",
        "colab_type": "code",
        "colab": {}
      },
      "source": [
        "username = \"\" # your username\n",
        "password = \"\" # your password another_poster"
      ],
      "execution_count": null,
      "outputs": []
    },
    {
      "cell_type": "markdown",
      "metadata": {
        "id": "u1h4CIdx1-EZ",
        "colab_type": "text"
      },
      "source": [
        "You should be able to \"run after\" this point over and over, just changing the account/destination variables\n",
        "\n",
        "The save data section should be commented out"
      ]
    },
    {
      "cell_type": "code",
      "metadata": {
        "id": "WnysRa2S2J3y",
        "colab_type": "code",
        "colab": {}
      },
      "source": [
        "accounts = [\"\"] # accounts to scrape - not urls\n",
        "destination_folder = \"scraped\" # don't change for now please"
      ],
      "execution_count": null,
      "outputs": []
    },
    {
      "cell_type": "markdown",
      "metadata": {
        "id": "1_LxEif-3mIe",
        "colab_type": "text"
      },
      "source": [
        "If you are using Instagram and Google Colab, you may have to log into your Instagram account and confirm that the IP address is you"
      ]
    },
    {
      "cell_type": "code",
      "metadata": {
        "id": "luYqxR3P1nJ-",
        "colab_type": "code",
        "colab": {}
      },
      "source": [
        "for account in accounts:\n",
        "  account_url = \"https://instagram.com/\" + account\n",
        "  dest = \"/content/\" + destination_folder + \"/\" + account\n",
        "  !gallery-dl \"$account_url\" -u \"$username\" -p \"$password\" --dest \"$dest\" --verbose"
      ],
      "execution_count": null,
      "outputs": []
    },
    {
      "cell_type": "markdown",
      "metadata": {
        "id": "qcwzXVB52Sw2",
        "colab_type": "text"
      },
      "source": [
        "# Save data"
      ]
    },
    {
      "cell_type": "markdown",
      "metadata": {
        "id": "s311b64_2YLK",
        "colab_type": "text"
      },
      "source": [
        "Uncomment the one you want below after you have all your data\n",
        "\n",
        "1.   You want to save everything in one zip file (basic stylegan?)\n",
        "2.   You want to have separate zip files (for storage?)\n",
        "3.   You want to have a zip file with subfolders (for tagging?)"
      ]
    },
    {
      "cell_type": "markdown",
      "metadata": {
        "id": "_CsFNqsC_4A-",
        "colab_type": "text"
      },
      "source": [
        "1. One zip file (unsure what happens with duplicate file names)"
      ]
    },
    {
      "cell_type": "code",
      "metadata": {
        "id": "LV0qlJ3m_6xJ",
        "colab_type": "code",
        "colab": {}
      },
      "source": [
        "zip_folder = \"\" # choose your top-level folder.zip\n",
        "save_folder = \"\" # path to folder in drive\n",
        "\n",
        "!zip -j \"$zip_folder\" scraped/*/instagram/*/*.jpg\n",
        "!cp \"$zip_folder\" \"$save_folder\""
      ],
      "execution_count": null,
      "outputs": []
    },
    {
      "cell_type": "markdown",
      "metadata": {
        "id": "dJtWSfUC_73n",
        "colab_type": "text"
      },
      "source": [
        "2. Separate zip files"
      ]
    },
    {
      "cell_type": "code",
      "metadata": {
        "id": "XrnDeTgt_9qk",
        "colab_type": "code",
        "colab": {}
      },
      "source": [
        "save_folder = \"\" # path to folder in drive\n",
        "\n",
        "for account in accounts:\n",
        "  dest = account + \".zip\"\n",
        "  orig = \"scraped/\" + account + \"/instagram/\" + account + \"/*.jpg\"\n",
        "  !zip -j \"$dest\" $orig\n",
        "  !cp \"$dest\" \"$save_folder\""
      ],
      "execution_count": null,
      "outputs": []
    },
    {
      "cell_type": "markdown",
      "metadata": {
        "id": "Q6oQTUfE_90s",
        "colab_type": "text"
      },
      "source": [
        "3. Zip file with subfolders"
      ]
    },
    {
      "cell_type": "code",
      "metadata": {
        "id": "Cr_hMKdCABOv",
        "colab_type": "code",
        "colab": {}
      },
      "source": [
        "zip_folder = \"\" # choose your top-level folder.zip\n",
        "save_folder = \"\" # path to folder in drive\n",
        "\n",
        "for account in accounts:\n",
        "  dest = \"temp/\" + account\n",
        "  orig = \"scraped/\" + account + \"/instagram/\" + account + \"/*.jpg\"\n",
        "  !mkdir $dest -p\n",
        "  !cp $orig $dest\n",
        "\n",
        "%cd temp\n",
        "\n",
        "!zip -r \"$zip_folder\" *\n",
        "!cp \"$zip_folder\" \"$save_folder\"\n",
        "\n",
        "%cd .."
      ],
      "execution_count": null,
      "outputs": []
    }
  ]
}