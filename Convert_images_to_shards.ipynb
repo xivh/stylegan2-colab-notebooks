{
  "nbformat": 4,
  "nbformat_minor": 0,
  "metadata": {
    "colab": {
      "name": "Convert images to shards.ipynb",
      "provenance": [],
      "collapsed_sections": [
        "wF8Q2AfVOeoP",
        "0PVnjR5qOklj",
        "TO_56KvlSduZ"
      ],
      "mount_file_id": "1Pt-P-OoI0pohOqGaS3QHcIwfr4m2w3uo",
      "authorship_tag": "ABX9TyMcD0ZbWc0720i0lvJHYSKS",
      "include_colab_link": true
    },
    "kernelspec": {
      "name": "python3",
      "display_name": "Python 3"
    }
  },
  "cells": [
    {
      "cell_type": "markdown",
      "metadata": {
        "id": "view-in-github",
        "colab_type": "text"
      },
      "source": [
        "<a href=\"https://colab.research.google.com/github/xivh/stylegan2-colab-notebooks/blob/master/Convert_images_to_shards.ipynb\" target=\"_parent\"><img src=\"https://colab.research.google.com/assets/colab-badge.svg\" alt=\"Open In Colab\"/></a>"
      ]
    },
    {
      "cell_type": "code",
      "metadata": {
        "id": "bJmqdxb2OVnU",
        "colab_type": "code",
        "colab": {}
      },
      "source": [
        "%tensorflow_version 1.x"
      ],
      "execution_count": null,
      "outputs": []
    },
    {
      "cell_type": "markdown",
      "metadata": {
        "id": "wF8Q2AfVOeoP",
        "colab_type": "text"
      },
      "source": [
        "# Get the converter"
      ]
    },
    {
      "cell_type": "code",
      "metadata": {
        "id": "-4IX-B5bOead",
        "colab_type": "code",
        "colab": {}
      },
      "source": [
        "!git clone https://github.com/shawwn/danbooru-tools"
      ],
      "execution_count": null,
      "outputs": []
    },
    {
      "cell_type": "markdown",
      "metadata": {
        "id": "0PVnjR5qOklj",
        "colab_type": "text"
      },
      "source": [
        "# Get your images\n",
        "\n"
      ]
    },
    {
      "cell_type": "markdown",
      "metadata": {
        "id": "yLQ1NNtRQIYR",
        "colab_type": "text"
      },
      "source": [
        "For example, get your zipped, processed images from Google Drive"
      ]
    },
    {
      "cell_type": "code",
      "metadata": {
        "id": "AbNZWxEHPBZh",
        "colab_type": "code",
        "colab": {}
      },
      "source": [
        "from google.colab import drive\n",
        "drive.mount('/content/drive')"
      ],
      "execution_count": null,
      "outputs": []
    },
    {
      "cell_type": "markdown",
      "metadata": {
        "id": "y_IjYVgHQVz3",
        "colab_type": "text"
      },
      "source": [
        "Change the first argument to the path of your zip file - you can find it in the side browser and right click to copy the path"
      ]
    },
    {
      "cell_type": "code",
      "metadata": {
        "id": "iLV7yYeJPDVS",
        "colab_type": "code",
        "colab": {}
      },
      "source": [
        "!cp \"zip_file_path\" /content/"
      ],
      "execution_count": null,
      "outputs": []
    },
    {
      "cell_type": "markdown",
      "metadata": {
        "id": "eUHSKm-KRC87",
        "colab_type": "text"
      },
      "source": [
        "If your file was zipped, you need to unzip it"
      ]
    },
    {
      "cell_type": "code",
      "metadata": {
        "id": "e_iCLTmhRJCx",
        "colab_type": "code",
        "colab": {}
      },
      "source": [
        "!mkdir images/\n",
        "!unzip your_zip_file.zip -d images/"
      ],
      "execution_count": null,
      "outputs": []
    },
    {
      "cell_type": "markdown",
      "metadata": {
        "id": "DTFa39DGRxx6",
        "colab_type": "text"
      },
      "source": [
        "You want your images to be in images/\\*.jpg, not images/another_folder/\\*.jpg"
      ]
    },
    {
      "cell_type": "markdown",
      "metadata": {
        "id": "P4YYOpBwSGaw",
        "colab_type": "text"
      },
      "source": [
        "# Convert your images to shards"
      ]
    },
    {
      "cell_type": "markdown",
      "metadata": {
        "id": "hthu_N4lVWp7",
        "colab_type": "text"
      },
      "source": [
        "Shards are used to shuffle the images. The minimum is 8 (8 tpu cores), the default is 2048. I have set it to 128 below, but you can change it if you want. You may get fewer shards than you set because each shard must have the same number of images."
      ]
    },
    {
      "cell_type": "code",
      "metadata": {
        "id": "f8NBfUQ3UvNb",
        "colab_type": "code",
        "colab": {}
      },
      "source": [
        "!find images/ -type f -name '*.jpg' > images.txt\n",
        "!python danbooru-tools/danbooru_to_tfrecord.py --name images --out 'your_output_folder' --files images.txt --shards 128"
      ],
      "execution_count": null,
      "outputs": []
    },
    {
      "cell_type": "markdown",
      "metadata": {
        "id": "iphOrcBWdKgq",
        "colab_type": "text"
      },
      "source": [
        "Upload to Google bucket\n",
        "\n",
        "\n",
        "1.   Authenticate yourself. This one might not work... \n",
        "2.   Make the folder if it doesn't exist (you could do this through the GUI)\n",
        "3.   Upload your files\n",
        "\n"
      ]
    },
    {
      "cell_type": "code",
      "metadata": {
        "id": "nCvIf8ZXdNNc",
        "colab_type": "code",
        "colab": {}
      },
      "source": [
        "!gcloud auth login\n",
        "!gcloud config set project your_project_id # change to your project"
      ],
      "execution_count": null,
      "outputs": []
    },
    {
      "cell_type": "code",
      "metadata": {
        "id": "6e0rOpMKnopu",
        "colab_type": "code",
        "colab": {}
      },
      "source": [
        "# required if dataset folder does not exist\n",
        "!touch \"$your_output_folder\"/GSUTIL-IS-NOT-A-FILESYSTEM.txt\n",
        "!gsutil cp \"$your_output_folder\"/GSUTIL-IS-NOT-A-FILESYSTEM.txt \"$your_google_bucket_path\"/GSUTIL-IS-NOT-A-FILESYSTEM.txt\n",
        "!rm \"$your_output_folder\"/GSUTIL-IS-NOT-A-FILESYSTEM.txt"
      ],
      "execution_count": null,
      "outputs": []
    },
    {
      "cell_type": "code",
      "metadata": {
        "id": "n_TIJgz9dsBb",
        "colab_type": "code",
        "colab": {}
      },
      "source": [
        "!gsutil -m cp your_output_folder/* gs://your_google_bucket_path"
      ],
      "execution_count": null,
      "outputs": []
    },
    {
      "cell_type": "markdown",
      "metadata": {
        "id": "_Q2BgFTpSVCm",
        "colab_type": "text"
      },
      "source": [
        "# Extra: make the necessary tfrecords"
      ]
    },
    {
      "cell_type": "markdown",
      "metadata": {
        "id": "5dHRL_BeazK4",
        "colab_type": "text"
      },
      "source": [
        "Currently, you need to make a dummy folder with empty tfrecords"
      ]
    },
    {
      "cell_type": "code",
      "metadata": {
        "id": "sfqHyatpa5Hp",
        "colab_type": "code",
        "colab": {}
      },
      "source": [
        "dataset = \"your_dataset_name\" # set this to your dataset name\n",
        "\n",
        "from pathlib import Path\n",
        "\n",
        "Path(\"dummy_data\", dataset).mkdir(parents=True, exist_ok=True)\n",
        "\n",
        "for i in range(2, 11):\n",
        "  Path(\"dummy_data\", dataset, dataset + \"-r%02d.tfrecords\" % i).touch()"
      ],
      "execution_count": null,
      "outputs": []
    },
    {
      "cell_type": "markdown",
      "metadata": {
        "id": "iIptY05he8jx",
        "colab_type": "text"
      },
      "source": [
        "Assuming you are already authenticated (see previous sections), upload"
      ]
    },
    {
      "cell_type": "code",
      "metadata": {
        "id": "ep88z_4vfJKI",
        "colab_type": "code",
        "colab": {}
      },
      "source": [
        "!gsutil -m cp -r dummy_data/ gs://your_google_bucket/dummy_data"
      ],
      "execution_count": null,
      "outputs": []
    },
    {
      "cell_type": "markdown",
      "metadata": {
        "id": "TO_56KvlSduZ",
        "colab_type": "text"
      },
      "source": [
        "# Extra: Quickly process your images"
      ]
    },
    {
      "cell_type": "markdown",
      "metadata": {
        "id": "VXIbNhgXSjbQ",
        "colab_type": "text"
      },
      "source": [
        "Only do this for a quick check - you should have already processed your images before using this notebook\n",
        "\n",
        "Your original images will not be preserved, so if you mess up, you'll have to download them again (or you could make a copy of the folder)"
      ]
    },
    {
      "cell_type": "code",
      "metadata": {
        "id": "4rmi26DbSrKe",
        "colab_type": "code",
        "colab": {}
      },
      "source": [
        "!pip install Augmentor\n",
        "!pip install fastai"
      ],
      "execution_count": null,
      "outputs": []
    },
    {
      "cell_type": "markdown",
      "metadata": {
        "id": "eQi2p1KyT4gI",
        "colab_type": "text"
      },
      "source": [
        "Check the number of images"
      ]
    },
    {
      "cell_type": "code",
      "metadata": {
        "id": "_V6UyG7pT5yv",
        "colab_type": "code",
        "colab": {}
      },
      "source": [
        "!ls images | wc -l"
      ],
      "execution_count": null,
      "outputs": []
    },
    {
      "cell_type": "markdown",
      "metadata": {
        "id": "DRC5mWXqS0F1",
        "colab_type": "text"
      },
      "source": [
        "Resize all your images to the right dimensions\n",
        "\n"
      ]
    },
    {
      "cell_type": "code",
      "metadata": {
        "id": "3tIFK8R3S5x5",
        "colab_type": "code",
        "colab": {}
      },
      "source": [
        "size = 512 # set this - I am making squares\n",
        "\n",
        "import Augmentor\n",
        "p = Augmentor.Pipeline(\"images\")\n",
        "p.resize(probability=1, height=size, width=size, resample_filter=\"ANTIALIAS\")\n",
        "p.process()"
      ],
      "execution_count": null,
      "outputs": []
    },
    {
      "cell_type": "markdown",
      "metadata": {
        "id": "0roA34gtTrmR",
        "colab_type": "text"
      },
      "source": [
        "Move the output images back up to the images folder and remove the original images"
      ]
    },
    {
      "cell_type": "code",
      "metadata": {
        "id": "KJ2eE0rlT-ku",
        "colab_type": "code",
        "colab": {}
      },
      "source": [
        "!rm images/*.jpg\n",
        "!mv images/output/* images/\n",
        "!rm images/output -d"
      ],
      "execution_count": null,
      "outputs": []
    },
    {
      "cell_type": "markdown",
      "metadata": {
        "id": "fKiQ05KcUQSU",
        "colab_type": "text"
      },
      "source": [
        "Check the images to make sure they all open"
      ]
    },
    {
      "cell_type": "code",
      "metadata": {
        "id": "B-CQytmQUTQO",
        "colab_type": "code",
        "colab": {}
      },
      "source": [
        "from fastai.vision import *\n",
        "verify_images(\"images\", delete=True)"
      ],
      "execution_count": null,
      "outputs": []
    },
    {
      "cell_type": "markdown",
      "metadata": {
        "id": "QarxYlmNUhI4",
        "colab_type": "text"
      },
      "source": [
        "Check how many images you have left - hopefully about the same, definitely not more"
      ]
    },
    {
      "cell_type": "code",
      "metadata": {
        "id": "mDvQY2COUns8",
        "colab_type": "code",
        "colab": {}
      },
      "source": [
        "!ls images | wc -l"
      ],
      "execution_count": null,
      "outputs": []
    }
  ]
}