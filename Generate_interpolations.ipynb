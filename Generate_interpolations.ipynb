{
  "nbformat": 4,
  "nbformat_minor": 0,
  "metadata": {
    "colab": {
      "name": "Generate interpolations",
      "provenance": [],
      "collapsed_sections": [],
      "include_colab_link": true
    },
    "kernelspec": {
      "name": "python3",
      "display_name": "Python 3"
    },
    "accelerator": "GPU"
  },
  "cells": [
    {
      "cell_type": "markdown",
      "metadata": {
        "id": "view-in-github",
        "colab_type": "text"
      },
      "source": [
        "<a href=\"https://colab.research.google.com/github/xivh/stylegan2-colab-notebooks/blob/interpolations/Generate_interpolations.ipynb\" target=\"_parent\"><img src=\"https://colab.research.google.com/assets/colab-badge.svg\" alt=\"Open In Colab\"/></a>"
      ]
    },
    {
      "cell_type": "markdown",
      "metadata": {
        "id": "J1spuVFttsCW",
        "colab_type": "text"
      },
      "source": [
        "This notebook generates interpolation videos\n",
        "\n",
        "Based on code written by https://github.com/arfafax"
      ]
    },
    {
      "cell_type": "markdown",
      "metadata": {
        "id": "PtOVza7H9z3Y",
        "colab_type": "text"
      },
      "source": [
        "# Set up network"
      ]
    },
    {
      "cell_type": "markdown",
      "metadata": {
        "id": "tUe2l0wtuAa6",
        "colab_type": "text"
      },
      "source": [
        "Clone a StyleGAN2 repo, it's best to use the one you trained with\n",
        "\n",
        "If you get any errors in this section and they don't go away, resetting the notebook may help"
      ]
    },
    {
      "cell_type": "code",
      "metadata": {
        "id": "Ixs37iA-Mxf2",
        "colab_type": "code",
        "colab": {}
      },
      "source": [
        "#!git clone https://github.com/shawwn/stylegan2 -b working /content/stylegan2\n",
        "#!git clone https://github.com/skyflynil/stylegan2 /content/stylegan2\n",
        "!git clone https://github.com/sdtblck/stylegan2 -b rfaugment_tpu /content/stylegan2"
      ],
      "execution_count": null,
      "outputs": []
    },
    {
      "cell_type": "markdown",
      "metadata": {
        "id": "TRftlmLGugqc",
        "colab_type": "text"
      },
      "source": [
        "Get the interpolation functions"
      ]
    },
    {
      "cell_type": "code",
      "metadata": {
        "id": "JHnjbnUGuqu7",
        "colab_type": "code",
        "colab": {}
      },
      "source": [
        "!git clone https://github.com/xivh/stylegan2-colab-notebooks -b interpolations /content/stylegan2-colab-notebooks"
      ],
      "execution_count": null,
      "outputs": []
    },
    {
      "cell_type": "markdown",
      "metadata": {
        "id": "HYpwdUBZu0jm",
        "colab_type": "text"
      },
      "source": [
        "Authenticate Google Drive"
      ]
    },
    {
      "cell_type": "code",
      "metadata": {
        "id": "yJqjMTYuJN_s",
        "colab_type": "code",
        "colab": {}
      },
      "source": [
        "from google.colab import drive\n",
        "drive.mount('/content/drive')"
      ],
      "execution_count": null,
      "outputs": []
    },
    {
      "cell_type": "markdown",
      "metadata": {
        "id": "9DUvs4Buu3Rk",
        "colab_type": "text"
      },
      "source": [
        "Get your network from Drive"
      ]
    },
    {
      "cell_type": "code",
      "metadata": {
        "id": "IquIwC7DI7P7",
        "colab_type": "code",
        "colab": {}
      },
      "source": [
        "!cp \"/content/drive/My Drive/networks/your-network\" /content/the_network.pkl"
      ],
      "execution_count": null,
      "outputs": []
    },
    {
      "cell_type": "markdown",
      "metadata": {
        "id": "Guw0Jv80u7OF",
        "colab_type": "text"
      },
      "source": [
        "Load the network"
      ]
    },
    {
      "cell_type": "code",
      "metadata": {
        "id": "w_diRM7Fn1Pa",
        "colab_type": "code",
        "colab": {}
      },
      "source": [
        "%tensorflow_version 1.x\n",
        "%cd /content/stylegan2"
      ],
      "execution_count": null,
      "outputs": []
    },
    {
      "cell_type": "code",
      "metadata": {
        "id": "Pt4kvzEM39oI",
        "colab_type": "code",
        "colab": {}
      },
      "source": [
        "import os\n",
        "import pickle\n",
        "import numpy as np\n",
        "import PIL.Image\n",
        "import dnnlib\n",
        "import dnnlib.tflib as tflib\n",
        "import scipy"
      ],
      "execution_count": null,
      "outputs": []
    },
    {
      "cell_type": "code",
      "metadata": {
        "id": "Mg9DrxVNJ8am",
        "colab_type": "code",
        "colab": {}
      },
      "source": [
        "tflib.init_tf()\n",
        "_G, _D, Gs = pickle.load(open(\"/content/the_network.pkl\", \"rb\"))\n",
        "# _G = Instantaneous snapshot of the generator. Mainly useful for resuming a previous training run.\n",
        "# _D = Instantaneous snapshot of the discriminator. Mainly useful for resuming a previous training run.\n",
        "# Gs = Long-term average of the generator. Yields higher-quality results than the instantaneous snapshot."
      ],
      "execution_count": null,
      "outputs": []
    },
    {
      "cell_type": "markdown",
      "metadata": {
        "id": "bSqcYhRvu_ec",
        "colab_type": "text"
      },
      "source": [
        "Load the interpolation functions"
      ]
    },
    {
      "cell_type": "code",
      "metadata": {
        "id": "S3kXDwclvBQz",
        "colab_type": "code",
        "colab": {}
      },
      "source": [
        "!cp /content/stylegan2-colab-notebooks/functions/interpolations.py .\n",
        "import interpolations"
      ],
      "execution_count": null,
      "outputs": []
    },
    {
      "cell_type": "markdown",
      "metadata": {
        "id": "NYBvJeogKFUy",
        "colab_type": "text"
      },
      "source": [
        "# Generate a single image"
      ]
    },
    {
      "cell_type": "code",
      "metadata": {
        "id": "PUD5bg5fKHcH",
        "colab_type": "code",
        "colab": {}
      },
      "source": [
        "#@title Generate an image { run: \"auto\", form-width: \"30%\"}\n",
        "random_seed =  1747#@param {type:\"integer\"}\n",
        "truncation_psi = 2.5 #@param {type:\"slider\", min:0, max:3, step:0.05}\n",
        "interpolations.generate_images(Gs, [random_seed], truncation_psi)"
      ],
      "execution_count": null,
      "outputs": []
    },
    {
      "cell_type": "markdown",
      "metadata": {
        "id": "RBSNTAxwPM-3",
        "colab_type": "text"
      },
      "source": [
        "# Blend multiple seeds together to create a new image"
      ]
    },
    {
      "cell_type": "code",
      "metadata": {
        "id": "W3l5K4JROS0g",
        "colab_type": "code",
        "colab": {}
      },
      "source": [
        "#@title Blend two seeds { run: \"auto\", form-width: \"30%\"}\n",
        "src_seed =  15#@param {type:\"integer\"}\n",
        "dst_seed =  77#@param {type:\"integer\"}\n",
        "blending = 1 #@param {type:\"slider\", min:0, max:1, step:0.05}\n",
        "truncation_psi = 1 #@param {type:\"slider\", min:0, max:1, step:0.05}\n",
        "interpolations.generate_images(Gs, [src_seed, dst_seed], truncation_psi)\n",
        "\n",
        "print(\"Blended image (\", blending, \")\")\n",
        "interpolations.blend_images(Gs, src_seed, dst_seed, blending=blending, truncation_psi=truncation_psi)"
      ],
      "execution_count": null,
      "outputs": []
    },
    {
      "cell_type": "markdown",
      "metadata": {
        "id": "7Qe12BRGKOnk",
        "colab_type": "text"
      },
      "source": [
        "# Interpolate between different seeds (image output)"
      ]
    },
    {
      "cell_type": "markdown",
      "metadata": {
        "id": "tITvKVoz5eYw",
        "colab_type": "text"
      },
      "source": [
        "Note: this commented out in interpolations.py, you can try to use it if you want by uncommenting"
      ]
    },
    {
      "cell_type": "code",
      "metadata": {
        "id": "u1TQISpYKR1P",
        "colab_type": "code",
        "colab": {}
      },
      "source": [
        "#@title Generate interpolation images { run: \"auto\", form-width: \"30%\"}\n",
        "src_seed =  77#@param {type:\"integer\"}\n",
        "dst_seed =  777#@param {type:\"integer\"}\n",
        "truncation_psi = 3 #@param {type:\"slider\", min:0, max:3, step:0.05}\n",
        "duration_sec = 5 #@param {type:\"integer\"}\n",
        "mp4_fps = 20 #@param {type:\"integer\"}\n",
        "interpolations.generate_images(Gs, [src_seed, dst_seed], truncation_psi)\n",
        "\n",
        "!mkdir generated_images\n",
        "interpolations.interpolate_between_seeds_i(Gs, seed_array=[src_seed, dst_seed], truncation=truncation_psi, duration_sec=duration_sec, mp4_fps=mp4_fps)\n"
      ],
      "execution_count": null,
      "outputs": []
    },
    {
      "cell_type": "code",
      "metadata": {
        "id": "lp5LucugKXit",
        "colab_type": "code",
        "colab": {}
      },
      "source": [
        "# You may need to run this cell twice to get the video to download\n",
        "from google.colab import files\n",
        "files.download(output_filename) "
      ],
      "execution_count": null,
      "outputs": []
    },
    {
      "cell_type": "markdown",
      "metadata": {
        "id": "g4jjW6B4-c2c",
        "colab_type": "text"
      },
      "source": [
        "# Generate a grid of interpolations"
      ]
    },
    {
      "cell_type": "code",
      "metadata": {
        "id": "IUnU05mr4edb",
        "colab_type": "code",
        "colab": {}
      },
      "source": [
        "#@title Generate an interpolation video { run: \"auto\", form-width: \"30%\" }\n",
        "random_seed = 621 #@param {type:\"integer\"}\n",
        "duration_sec = 10.0 #@param {type:\"number\"}\n",
        "mp4_fps = 20 #@param {type:\"integer\"}\n",
        "grid_width = 4 #@param {type:\"integer\"}\n",
        "grid_height = 4 #@param {type:\"integer\"}\n",
        "output_filename = interpolations.make_video(Gs, grid_size=[grid_width,grid_height], duration_sec=duration_sec, mp4_fps=mp4_fps, random_seed=random_seed)"
      ],
      "execution_count": null,
      "outputs": []
    },
    {
      "cell_type": "code",
      "metadata": {
        "id": "Z6o4HE6q7eO3",
        "colab_type": "code",
        "colab": {}
      },
      "source": [
        "# You may need to run this cell twice to get the video to download\n",
        "from google.colab import files\n",
        "files.download(output_filename) "
      ],
      "execution_count": null,
      "outputs": []
    },
    {
      "cell_type": "markdown",
      "metadata": {
        "id": "4hne4t8HknWx",
        "colab_type": "text"
      },
      "source": [
        "# Generate circlular interpolation\n"
      ]
    },
    {
      "cell_type": "code",
      "metadata": {
        "id": "3msaKd3Njcuo",
        "colab_type": "code",
        "colab": {}
      },
      "source": [
        "#@title Generate a circular interpolation video { run: \"auto\", form-width: \"30%\" }\n",
        "seed_a = 30302 #@param {type:\"integer\"}\n",
        "seed_b = 79605 #@param {type:\"integer\"}\n",
        "seed_c = 37989 #@param {type:\"integer\"}\n",
        "radius = 60.0 #@param {type:\"number\"}\n",
        "output_filename = interpolations.circular_interpolation(Gs, seed_a, seed_b, seed_c, radius)"
      ],
      "execution_count": null,
      "outputs": []
    },
    {
      "cell_type": "code",
      "metadata": {
        "id": "F9DKUJ3Vji_l",
        "colab_type": "code",
        "colab": {}
      },
      "source": [
        "# You may need to run this cell twice to get the video to download\n",
        "from google.colab import files\n",
        "files.download(output_filename) "
      ],
      "execution_count": null,
      "outputs": []
    },
    {
      "cell_type": "code",
      "metadata": {
        "id": "pa4_lxwEwHal",
        "colab_type": "code",
        "colab": {}
      },
      "source": [
        "#@title Generate an interpolation video { run: \"auto\", form-width: \"30%\"}\n",
        "src_seed =  18711#@param {type:\"integer\"}\n",
        "dst_seed =  11211#@param {type:\"integer\"}\n",
        "truncation_psi = 0.85 #@param {type:\"slider\", min:0, max:1, step:0.05}\n",
        "duration_sec = 10.0 #@param {type:\"number\"}\n",
        "mp4_fps = 20 #@param {type:\"integer\"}\n",
        "interpolations.generate_images(Gs, [src_seed, dst_seed], truncation_psi)\n",
        "interpolations.output_filename = interpolate_between_seeds(Gs, seed_array=[src_seed, dst_seed], truncation=truncation_psi, duration_sec=duration_sec, mp4_fps=mp4_fps)"
      ],
      "execution_count": null,
      "outputs": []
    }
  ]
}