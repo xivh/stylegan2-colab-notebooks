{
  "nbformat": 4,
  "nbformat_minor": 0,
  "metadata": {
    "colab": {
      "name": " Bucket ckpt to Drive pkl.ipynb",
      "provenance": [],
      "collapsed_sections": [],
      "include_colab_link": true
    },
    "kernelspec": {
      "name": "python3",
      "display_name": "Python 3"
    },
    "accelerator": "TPU"
  },
  "cells": [
    {
      "cell_type": "markdown",
      "metadata": {
        "id": "view-in-github",
        "colab_type": "text"
      },
      "source": [
        "<a href=\"https://colab.research.google.com/github/xivh/stylegan2-colab-notebooks/blob/master/Bucket_ckpt_to_Drive_pkl.ipynb\" target=\"_parent\"><img src=\"https://colab.research.google.com/assets/colab-badge.svg\" alt=\"Open In Colab\"/></a>"
      ]
    },
    {
      "cell_type": "markdown",
      "metadata": {
        "id": "TqrK1ZHPCW1e",
        "colab_type": "text"
      },
      "source": [
        "Convert a ckpt in GCS to a pkl and save it in Google Drive"
      ]
    },
    {
      "cell_type": "markdown",
      "metadata": {
        "id": "3xNFZykLIBzq",
        "colab_type": "text"
      },
      "source": [
        "Original code written by https://github.com/shawwn"
      ]
    },
    {
      "cell_type": "markdown",
      "metadata": {
        "id": "NKCHIYFbCwXL",
        "colab_type": "text"
      },
      "source": [
        "# Set up StyleGAN2 and authenticate"
      ]
    },
    {
      "cell_type": "code",
      "metadata": {
        "id": "-vabFWeHM-Z1",
        "colab_type": "code",
        "colab": {}
      },
      "source": [
        "!git clone https://github.com/shawwn/stylegan2 -b estimator /content/stylegan2\n",
        "%cd /content/stylegan2\n",
        "!git checkout working"
      ],
      "execution_count": null,
      "outputs": []
    },
    {
      "cell_type": "code",
      "metadata": {
        "id": "4BOxP2bvNABv",
        "colab_type": "code",
        "colab": {}
      },
      "source": [
        "# magical solution: https://stackoverflow.com/a/59492999/9919772\n",
        "!gcloud auth application-default login"
      ],
      "execution_count": null,
      "outputs": []
    },
    {
      "cell_type": "code",
      "metadata": {
        "id": "LNYW4Oxj9cUv",
        "colab_type": "code",
        "colab": {}
      },
      "source": [
        "from google.colab import drive\n",
        "drive.mount('/content/drive')"
      ],
      "execution_count": null,
      "outputs": []
    },
    {
      "cell_type": "markdown",
      "metadata": {
        "id": "x8_gaIN6C3uZ",
        "colab_type": "text"
      },
      "source": [
        "# Get StyleGAN2 ready for your network"
      ]
    },
    {
      "cell_type": "markdown",
      "metadata": {
        "id": "6YZYf706F1AH",
        "colab_type": "text"
      },
      "source": [
        "Set label size to something other than  0 if you have labels\n",
        "\n",
        "Set resolution to your network resolution"
      ]
    },
    {
      "cell_type": "code",
      "metadata": {
        "id": "19lxw4GIGAKI",
        "colab_type": "code",
        "colab": {}
      },
      "source": [
        "# --- set resolution and label size here:\n",
        "label_size = 0    #@param {type:\"integer\"}\n",
        "resolution = 512  #@param {type:\"integer\"}\n",
        "# ------------------------"
      ],
      "execution_count": null,
      "outputs": []
    },
    {
      "cell_type": "markdown",
      "metadata": {
        "id": "ZHEaaYqrDElQ",
        "colab_type": "text"
      },
      "source": [
        "Make sure your runtime type is TPU or this part won't work\n",
        "\n",
        "You may get an error about the TPU not having access permissions for your bucket, you can find info in the docs at https://cloud.google.com/tpu/docs/storage-buckets or by pasting the error into Google - some people say you should deauthorize the TPU once you're finished since this is just a random TPU from Colab"
      ]
    },
    {
      "cell_type": "code",
      "metadata": {
        "id": "AKGoGfUTNCqG",
        "colab_type": "code",
        "colab": {}
      },
      "source": [
        "%tensorflow_version 1.x\n",
        "%cd /content/stylegan2\n",
        "\n",
        "import os\n",
        "\n",
        "os.environ['TPU_NAME'] = 'grpc://' + os.environ['COLAB_TPU_ADDR']\n",
        "os.environ['NOISY'] = '1'\n",
        "\n",
        "import tqdm\n",
        "from pprint import pprint as pp\n",
        "from training.networks_stylegan2 import *\n",
        "\n",
        "import dnnlib\n",
        "from dnnlib import EasyDict\n",
        "\n",
        "import tensorflow as tf\n",
        "import tflex\n",
        "import os\n",
        "\n",
        "dnnlib.tflib.init_tf()\n",
        "\n",
        "sess = tf.get_default_session()\n",
        "sess.list_devices()\n",
        "\n",
        "cores = tflex.get_cores()\n",
        "tflex.set_override_cores(cores)\n",
        "\n",
        "#synthesis_func          = 'G_synthesis_stylegan2'\n",
        "#kwargs = {'resolution': 512}\n",
        "#synthesis = tflib.Network('G_synthesis', func_name=globals()[synthesis_func], **kwargs)\n",
        "\n",
        "#sess.reset(os.environ['TPU_NAME']) # don't do this, this breaks the session\n",
        "\n",
        "train     = EasyDict(run_func_name='training.training_loop.training_loop') # Options for training loop.\n",
        "G_args    = EasyDict(func_name='training.networks_stylegan2.G_main')       # Options for generator network.\n",
        "D_args    = EasyDict(func_name='training.networks_stylegan2.D_stylegan2')  # Options for discriminator network.\n",
        "G_opt     = EasyDict(beta1=0.0, beta2=0.99, epsilon=1e-8)                  # Options for generator optimizer.\n",
        "D_opt     = EasyDict(beta1=0.0, beta2=0.99, epsilon=1e-8)                  # Options for discriminator optimizer.\n",
        "G_loss    = EasyDict(func_name='training.loss.G_logistic_ns_pathreg')      # Options for generator loss.\n",
        "D_loss    = EasyDict(func_name='training.loss.D_logistic_r1')              # Options for discriminator loss.\n",
        "sched     = EasyDict()                                                     # Options for TrainingSchedule.\n",
        "grid      = EasyDict(size='8k', layout='random')                           # Options for setup_snapshot_image_grid().\n",
        "sc        = dnnlib.SubmitConfig()                                          # Options for dnnlib.submit_run().\n",
        "tf_config = {'rnd.np_random_seed': 1000}                                   # Options for tflib.init_tf().\n",
        "num_channels = 3\n",
        "label_dtype = np.int64\n",
        "sched.minibatch_gpu = 1\n",
        "\n",
        "if 'G' not in globals():\n",
        "  with tflex.device('/gpu:0'):\n",
        "    G = tflib.Network('G', num_channels=num_channels, resolution=resolution, label_size=label_size, **G_args)\n",
        "    G.print_layers()\n",
        "    Gs, Gs_finalize = G.clone2('Gs')\n",
        "    Gs_finalize()\n",
        "    D = tflib.Network('D', num_channels=num_channels, resolution=resolution, label_size=label_size, **D_args)\n",
        "    D.print_layers()\n",
        "\n",
        "def rand_latent(n, seed=None):\n",
        "  if seed is not None:\n",
        "    if seed < 0:\n",
        "      seed = 2*32 - seed\n",
        "    np.random.seed(seed)\n",
        "  result = np.random.randn(n, *G.input_shape[1:])\n",
        "  if seed is not None:\n",
        "    np.random.seed()\n",
        "  return result\n",
        "\n",
        "def tfinit():\n",
        "  tflib.run(tf.global_variables_initializer())\n",
        "\n",
        "tfinit()"
      ],
      "execution_count": null,
      "outputs": []
    },
    {
      "cell_type": "markdown",
      "metadata": {
        "id": "rjjCnTajGtLf",
        "colab_type": "text"
      },
      "source": [
        "# Convert ckpt to pkl and save in Google Drive"
      ]
    },
    {
      "cell_type": "markdown",
      "metadata": {
        "id": "JwCvrhzSILvn",
        "colab_type": "text"
      },
      "source": [
        "Set the save directory, model directory, and checkpoints below\n",
        "\n",
        "If you want to use the pkl with Colab/your own GPU, I recommend saving it to Google Drive to save on egress costs - change mv to gsutil mv if you want to put in back in your bucket instead"
      ]
    },
    {
      "cell_type": "code",
      "metadata": {
        "id": "6yZvoWJCIiH2",
        "colab_type": "code",
        "colab": {}
      },
      "source": [
        "save_to = '/content/drive/My Drive/networks' #@param {type:\"string\"}\n",
        "model_dir = 'gs://your-bucket/runs/your-run'  #@param {type:\"string\"}"
      ],
      "execution_count": null,
      "outputs": []
    },
    {
      "cell_type": "code",
      "metadata": {
        "id": "F6hh6rpsM5Yt",
        "colab_type": "code",
        "colab": {}
      },
      "source": [
        "#!gcloud auth login\n",
        "from training import misc\n",
        "G.print_layers();\n",
        "D.print_layers();\n",
        "saver = tf.train.Saver();\n",
        "\n",
        "save_to = save_to.strip().rstrip('/') + '/' # rstrip for /content/...\n",
        "model_dir = model_dir.strip().rstrip('/') + '/'\n",
        "ckpt = tf.train.latest_checkpoint(model_dir)\n",
        "print(ckpt)\n",
        "assert ckpt is not None\n",
        "saver.restore(sess, ckpt)\n",
        "import os\n",
        "step = int(os.path.basename(ckpt).split('-')[-1])\n",
        "dst = os.path.basename(os.path.dirname(ckpt)) + '-{}.pkl'.format(step)\n",
        "print('Saving to {}'.format(dst))\n",
        "misc.save_pkl((G, D, Gs), dst)\n",
        "print('Moving {} to {}{}'.format(dst, save_to, dst))\n",
        "!mv *.pkl \"$save_to\" # comment this for gsutil\n",
        "#!gsutil mv *.pkl $save_to # uncomment these for gsutil\n",
        "#print('Making {}{} publicly readable...'.format(save_to, dst))\n",
        "#!gsutil acl ch -u AllUsers:R $save_to$dst\n",
        "#print('Model available at https://storage.googleapis.com/{}{}'.format(save_to.lstrip('gs://'), dst))"
      ],
      "execution_count": null,
      "outputs": []
    }
  ]
}